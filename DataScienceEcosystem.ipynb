{
 "cells": [
  {
   "cell_type": "markdown",
   "id": "9849266a-3575-4da2-b813-921339ddad72",
   "metadata": {},
   "source": [
    "# Data Science Tools and Ecosystem\n",
    "In this notebook, Data Science Tools and Ecosystem are summarized."
   ]
  },
  {
   "cell_type": "markdown",
   "id": "4bdfddec-7a87-4f9b-af05-eb3afd837095",
   "metadata": {},
   "source": [
    "Some of the popular languages that Data Scientists use are:\n",
    "1. Python\n",
    "2. R\n",
    "3. SQL\n",
    "4. Java\n",
    "5. C++"
   ]
  },
  {
   "cell_type": "markdown",
   "id": "ac459101-b190-41fb-8651-c2de2e0e5aee",
   "metadata": {},
   "source": [
    "Some of the commonly used libraries used by Data Scientists include:\n",
    "1. Pandas\n",
    "2. NumPy\n",
    "3. Scikit-learn\n",
    "4. TensorFlow\n",
    "5. Matplotlib"
   ]
  },
  {
   "cell_type": "markdown",
   "id": "184915b4-3ad8-46f4-8918-5833ee72c92b",
   "metadata": {},
   "source": [
    "| Data Science Tools |\n",
    "|--------------------|\n",
    "| Jupyter Notebook  |\n",
    "| RStudio          |\n",
    "| Apache Zeppelin  |"
   ]
  },
  {
   "cell_type": "markdown",
   "id": "b15907f0-c8c0-46f0-b75a-4c16d5036432",
   "metadata": {},
   "source": [
    "### Below are a few examples of evaluating arithmetic expressions in Python."
   ]
  },
  {
   "cell_type": "code",
   "execution_count": 1,
   "id": "e54f9202-7bd8-4271-bca8-f09c4e7cf53e",
   "metadata": {},
   "outputs": [
    {
     "data": {
      "text/plain": [
       "17"
      ]
     },
     "execution_count": 1,
     "metadata": {},
     "output_type": "execute_result"
    }
   ],
   "source": [
    "# This a simple arithmetic expression to multiply then add integers\n",
    "(3 * 4) + 5"
   ]
  },
  {
   "cell_type": "code",
   "execution_count": 2,
   "id": "2024c7a0-aa1e-45f0-9b3f-a26ff7a7c365",
   "metadata": {},
   "outputs": [
    {
     "data": {
      "text/plain": [
       "3.3333333333333335"
      ]
     },
     "execution_count": 2,
     "metadata": {},
     "output_type": "execute_result"
    }
   ],
   "source": [
    "# This will convert 200 minutes to hours by dividing by 60\n",
    "200 / 60"
   ]
  },
  {
   "cell_type": "markdown",
   "id": "c3c6b3a3-4bc2-4993-971b-6d7ea491db14",
   "metadata": {},
   "source": [
    "**Objectives:**\n",
    "- List popular languages for Data Science\n",
    "- List commonly used libraries in Data Science\n",
    "- Create tables in markdown\n",
    "- Perform arithmetic operations in Python\n",
    "- Convert time units using Python expressions"
   ]
  },
  {
   "cell_type": "markdown",
   "id": "4accdb4d-cd40-41e6-b672-bf2465ec0ddf",
   "metadata": {},
   "source": [
    "## Author\n",
    "Akendi Nur Rohman"
   ]
  }
 ],
 "metadata": {
  "kernelspec": {
   "display_name": "Python 3 (ipykernel)",
   "language": "python",
   "name": "python3"
  },
  "language_info": {
   "codemirror_mode": {
    "name": "ipython",
    "version": 3
   },
   "file_extension": ".py",
   "mimetype": "text/x-python",
   "name": "python",
   "nbconvert_exporter": "python",
   "pygments_lexer": "ipython3",
   "version": "3.12.8"
  }
 },
 "nbformat": 4,
 "nbformat_minor": 5
}
